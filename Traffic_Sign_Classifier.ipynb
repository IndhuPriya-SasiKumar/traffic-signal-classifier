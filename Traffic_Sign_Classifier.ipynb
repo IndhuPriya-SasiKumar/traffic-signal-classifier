{
 "cells": [
  {
   "cell_type": "markdown",
   "metadata": {},
   "source": [
    "# Self-Driving Car Engineer Nanodegree\n",
    "\n",
    "## Deep Learning\n",
    "\n",
    "## Project: Build a Traffic Sign Recognition Classifier\n",
    "\n",
    "In this notebook, a template is provided for you to implement your functionality in stages, which is required to successfully complete this project. If additional code is required that cannot be included in the notebook, be sure that the Python code is successfully imported and included in your submission if necessary. \n",
    "\n",
    "> **Note**: Once you have completed all of the code implementations, you need to finalize your work by exporting the iPython Notebook as an HTML document. Before exporting the notebook to html, all of the code cells need to have been run so that reviewers can see the final implementation and output. You can then export the notebook by using the menu above and navigating to  \\n\",\n",
    "    \"**File -> Download as -> HTML (.html)**. Include the finished document along with this notebook as your submission. \n",
    "\n",
    "In addition to implementing code, there is a writeup to complete. The writeup should be completed in a separate file, which can be either a markdown file or a pdf document. There is a [write up template](https://github.com/udacity/CarND-Traffic-Sign-Classifier-Project/blob/master/writeup_template.md) that can be used to guide the writing process. Completing the code template and writeup template will cover all of the [rubric points](https://review.udacity.com/#!/rubrics/481/view) for this project.\n",
    "\n",
    "The [rubric](https://review.udacity.com/#!/rubrics/481/view) contains \"Stand Out Suggestions\" for enhancing the project beyond the minimum requirements. The stand out suggestions are optional. If you decide to pursue the \"stand out suggestions\", you can include the code in this Ipython notebook and also discuss the results in the writeup file.\n",
    "\n",
    "\n",
    ">**Note:** Code and Markdown cells can be executed using the **Shift + Enter** keyboard shortcut. In addition, Markdown cells can be edited by typically double-clicking the cell to enter edit mode."
   ]
  },
  {
   "cell_type": "markdown",
   "metadata": {},
   "source": [
    "---\n",
    "## Step 0: Load The Data"
   ]
  },
  {
   "cell_type": "code",
   "execution_count": 75,
   "metadata": {},
   "outputs": [],
   "source": [
    "# Load pickled data\n",
    "import pickle\n",
    "import numpy as np\n",
    "import tensorflow as tf\n",
    "\n",
    "# TODO: Fill this in based on where you saved the training and testing data\n",
    "\n",
    "training_file = '/home/indhu/Videos/labs/CarND-Traffic-Sign-Classifier-Project1/train.p'\n",
    "validation_file= '/home/indhu/Videos/labs/CarND-Traffic-Sign-Classifier-Project1/valid.p'\n",
    "testing_file = '/home/indhu/Videos/labs/CarND-Traffic-Sign-Classifier-Project1/test.p'\n",
    "\n",
    "with open(training_file, mode='rb') as f:\n",
    "    train = pickle.load(f)\n",
    "with open(validation_file, mode='rb') as f:\n",
    "    valid = pickle.load(f)\n",
    "with open(testing_file, mode='rb') as f:\n",
    "    test = pickle.load(f)\n",
    "    \n",
    "X_train, y_train = train['features'], train['labels']\n",
    "X_valid, y_valid = valid['features'], valid['labels']\n",
    "X_test, y_test = test['features'], test['labels']\n"
   ]
  },
  {
   "cell_type": "markdown",
   "metadata": {},
   "source": [
    "---\n",
    "\n",
    "## Step 1: Dataset Summary & Exploration\n",
    "\n",
    "The pickled data is a dictionary with 4 key/value pairs:\n",
    "\n",
    "- `'features'` is a 4D array containing raw pixel data of the traffic sign images, (num examples, width, height, channels).\n",
    "- `'labels'` is a 1D array containing the label/class id of the traffic sign. The file `signnames.csv` contains id -> name mappings for each id.\n",
    "- `'sizes'` is a list containing tuples, (width, height) representing the original width and height the image.\n",
    "- `'coords'` is a list containing tuples, (x1, y1, x2, y2) representing coordinates of a bounding box around the sign in the image. **THESE COORDINATES ASSUME THE ORIGINAL IMAGE. THE PICKLED DATA CONTAINS RESIZED VERSIONS (32 by 32) OF THESE IMAGES**\n",
    "\n",
    "Complete the basic data summary below. Use python, numpy and/or pandas methods to calculate the data summary rather than hard coding the results. For example, the [pandas shape method](http://pandas.pydata.org/pandas-docs/stable/generated/pandas.DataFrame.shape.html) might be useful for calculating some of the summary results. "
   ]
  },
  {
   "cell_type": "markdown",
   "metadata": {},
   "source": [
    "### Provide a Basic Summary of the Data Set Using Python, Numpy and/or Pandas"
   ]
  },
  {
   "cell_type": "code",
   "execution_count": 76,
   "metadata": {},
   "outputs": [
    {
     "name": "stdout",
     "output_type": "stream",
     "text": [
      "Number of training examples = 34799\n",
      "Number of testing examples = 12630\n",
      "Image data shape = (32, 32, 3)\n",
      "Number of classes = 43\n"
     ]
    }
   ],
   "source": [
    "### Replace each question mark with the appropriate value. \n",
    "### Use python, pandas or numpy methods rather than hard coding the results\n",
    "\n",
    "# TODO: Number of training examples\n",
    "n_train = (len(X_train))\n",
    "\n",
    "# TODO: Number of validation examples\n",
    "n_validation = (len(X_valid))\n",
    "\n",
    "# TODO: Number of testing examples.\n",
    "n_test = (len(X_test))\n",
    "\n",
    "# TODO: What's the shape of an traffic sign image?\n",
    "image_shape = (X_train[0].shape)\n",
    "\n",
    "# TODO: How many unique classes/labels there are in the dataset.\n",
    "\n",
    "maximum = np.max(y_train)\n",
    "n_classes = maximum+1\n",
    "\n",
    "print(\"Number of training examples =\", n_train)\n",
    "print(\"Number of testing examples =\", n_test)\n",
    "print(\"Image data shape =\", image_shape)\n",
    "print(\"Number of classes =\", n_classes)"
   ]
  },
  {
   "cell_type": "markdown",
   "metadata": {},
   "source": [
    "### Include an exploratory visualization of the dataset"
   ]
  },
  {
   "cell_type": "markdown",
   "metadata": {},
   "source": [
    "Visualize the German Traffic Signs Dataset using the pickled file(s). This is open ended, suggestions include: plotting traffic sign images, plotting the count of each sign, etc. \n",
    "\n",
    "The [Matplotlib](http://matplotlib.org/) [examples](http://matplotlib.org/examples/index.html) and [gallery](http://matplotlib.org/gallery.html) pages are a great resource for doing visualizations in Python.\n",
    "\n",
    "**NOTE:** It's recommended you start with something simple first. If you wish to do more, come back to it after you've completed the rest of the sections. It can be interesting to look at the distribution of classes in the training, validation and test set. Is the distribution the same? Are there more examples of some classes than others?"
   ]
  },
  {
   "cell_type": "code",
   "execution_count": 77,
   "metadata": {},
   "outputs": [
    {
     "name": "stdout",
     "output_type": "stream",
     "text": [
      "13\n",
      "the corresponding label is :(13, b'Yield')\n"
     ]
    },
    {
     "data": {
      "image/png": "[encoded data removed]",
      "text/plain": [
       "<Figure size 72x72 with 1 Axes>"
      ]
     },
     "metadata": {},
     "output_type": "display_data"
    }
   ],
   "source": [
    "### Data exploration visualization code goes here.\n",
    "### Feel free to use as many code cells as needed.\n",
    "import random\n",
    "import csv\n",
    "import matplotlib.pyplot as plt\n",
    "# Visualizations will be shown in the notebook.\n",
    "%matplotlib inline\n",
    "\n",
    "\n",
    "index = random.randint(0,len(X_train))\n",
    "image = (X_train[index].squeeze())\n",
    "plt.figure(figsize=(1,1))\n",
    "plt.imshow(image)\n",
    "ylabel = (y_train[index])\n",
    "print(ylabel)\n",
    "csv = np.genfromtxt(\"/home/indhu/Videos/labs/CarND-Traffic-Sign-Classifier-Project1/signnames.csv\",skip_header=1,dtype = \"i8,S20\",delimiter=\",\")\n",
    "csv = np.array(csv)\n",
    "print(\"the corresponding label is :{}\".format(csv[ylabel]))\n",
    "\n"
   ]
  },
  {
   "cell_type": "markdown",
   "metadata": {},
   "source": [
    "----\n",
    "\n",
    "## Step 2: Design and Test a Model Architecture\n",
    "\n",
    "Design and implement a deep learning model that learns to recognize traffic signs. Train and test your model on the [German Traffic Sign Dataset](http://benchmark.ini.rub.de/?section=gtsrb&subsection=dataset).\n",
    "\n",
    "The LeNet-5 implementation shown in the [classroom](https://classroom.udacity.com/nanodegrees/nd013/parts/fbf77062-5703-404e-b60c-95b78b2f3f9e/modules/6df7ae49-c61c-4bb2-a23e-6527e69209ec/lessons/601ae704-1035-4287-8b11-e2c2716217ad/concepts/d4aca031-508f-4e0b-b493-e7b706120f81) at the end of the CNN lesson is a solid starting point. You'll have to change the number of classes and possibly the preprocessing, but aside from that it's plug and play! \n",
    "\n",
    "With the LeNet-5 solution from the lecture, you should expect a validation set accuracy of about 0.89. To meet specifications, the validation set accuracy will need to be at least 0.93. It is possible to get an even higher accuracy, but 0.93 is the minimum for a successful project submission. \n",
    "\n",
    "There are various aspects to consider when thinking about this problem:\n",
    "\n",
    "- Neural network architecture (is the network over or underfitting?)\n",
    "- Play around preprocessing techniques (normalization, rgb to grayscale, etc)\n",
    "- Number of examples per label (some have more than others).\n",
    "- Generate fake data.\n",
    "\n",
    "Here is an example of a [published baseline model on this problem](http://yann.lecun.com/exdb/publis/pdf/sermanet-ijcnn-11.pdf). It's not required to be familiar with the approach used in the paper but, it's good practice to try to read papers like these."
   ]
  },
  {
   "cell_type": "markdown",
   "metadata": {},
   "source": [
    "### Pre-process the Data Set (normalization, grayscale, etc.)"
   ]
  },
  {
   "cell_type": "markdown",
   "metadata": {},
   "source": [
    "Minimally, the image data should be normalized so that the data has mean zero and equal variance. For image data, `(pixel - 128)/ 128` is a quick way to approximately normalize the data and can be used in this project. \n",
    "\n",
    "Other pre-processing steps are optional. You can try different techniques to see if it improves performance. \n",
    "\n",
    "Use the code cell (or multiple code cells, if necessary) to implement the first step of your project."
   ]
  },
  {
   "cell_type": "code",
   "execution_count": 78,
   "metadata": {},
   "outputs": [
    {
     "name": "stdout",
     "output_type": "stream",
     "text": [
      "(34799, 32, 32, 1)\n",
      "(4410, 32, 32, 1)\n"
     ]
    }
   ],
   "source": [
    "from sklearn.utils import shuffle\n",
    "import matplotlib.pyplot as plt\n",
    "import matplotlib.image as im\n",
    "import cv2\n",
    "\n",
    "X_train, y_train = shuffle(X_train, y_train)\n",
    "\n",
    "gray1 = []\n",
    "gray2 = []\n",
    "gray3 = []\n",
    "for i in X_train:\n",
    "    image = i\n",
    "    image = cv2.cvtColor(image,cv2.COLOR_RGB2GRAY)\n",
    "    gray1.append(image)\n",
    "X_train = np.array(gray1)\n",
    "for i in X_valid:\n",
    "    image = i\n",
    "    image = cv2.cvtColor(image,cv2.COLOR_RGB2GRAY)\n",
    "    gray2.append(image)\n",
    "X_valid = np.array(gray2)\n",
    "for i in X_test:\n",
    "    image = i\n",
    "    image = cv2.cvtColor(image,cv2.COLOR_RGB2GRAY)\n",
    "    gray3.append(image)\n",
    "X_test = np.array(gray3)\n",
    "X_train = (np.subtract((np.divide(X_train,255)),0.5))\n",
    "X_valid = (np.subtract((np.divide(X_valid,255)),0.5))\n",
    "X_test = (np.subtract((np.divide(X_test,255)),0.5))\n",
    "X_train = np.reshape(X_train,[34799,32,32,1])\n",
    "X_valid = np.reshape(X_valid,[4410,32,32,1])\n",
    "X_test = np.reshape(X_test,[12630,32,32,1])\n",
    "print(X_train.shape)\n",
    "print(X_valid.shape)\n"
   ]
  },
  {
   "cell_type": "markdown",
   "metadata": {},
   "source": [
    "### Model Architecture"
   ]
  },
  {
   "cell_type": "markdown",
   "metadata": {},
   "source": [
    "### Model Architecture"
   ]
  },
  {
   "cell_type": "code",
   "execution_count": 79,
   "metadata": {},
   "outputs": [],
   "source": [
    "### Define your architecture here.\n",
    "### Feel free to use as many code cells as needed.\n",
    "import tensorflow as tf\n",
    "keep_prob = tf.placeholder(tf.float32)\n",
    "\n",
    "\n",
    "\n",
    "from tensorflow.contrib.layers import flatten\n",
    "\n",
    "def LeNet(x):    \n",
    "    # Arguments used for tf.truncated_normal, randomly defines variables for the weights and biases for each layer\n",
    "    mu = 0\n",
    "    sigma = 0.1\n",
    "    weights1 = tf.Variable(tf.truncated_normal(([5,5,1,6]),0,0.1))\n",
    "    bias1 = tf.Variable(tf.zeros(6))\n",
    "    layer1 = tf.nn.conv2d(x,weights1,strides=[1,1,1,1],padding='VALID')\n",
    "    layer1 = tf.nn.bias_add(layer1,bias1)\n",
    " \n",
    "    layer1 = tf.nn.elu(layer1)\n",
    "\n",
    "\n",
    "    layer1 = tf.nn.max_pool(layer1,ksize=[1,2,2,1],strides =[1,2,2,1],padding='VALID')\n",
    "   \n",
    "    \n",
    "    weights2 = tf.Variable(tf.truncated_normal(([5,5,6,16]),0,0.1))\n",
    "    bias2 = tf.Variable(tf.zeros(16))\n",
    "    layer2 = tf.nn.conv2d(layer1,weights2,strides=[1,1,1,1],padding='VALID')\n",
    "    layer2 = tf.nn.bias_add(layer2,bias2)\n",
    "    layer2 = tf.nn.elu(layer2)\n",
    "   \n",
    "    layer2 = tf.nn.max_pool(layer2,ksize=[1,2,2,1],strides=[1,2,2,1],padding = 'VALID')\n",
    "    \n",
    "   \n",
    "   \n",
    "    layer2 = tf.contrib.layers.flatten(layer2)\n",
    "    \n",
    "   \n",
    "    \n",
    "    weights3 = tf.Variable(tf.truncated_normal(([400,120]),0,0.1))\n",
    "    bias3 = tf.Variable(tf.zeros(120))\n",
    "    layer3 = tf.add(tf.matmul(layer2,weights3),bias3)\n",
    "    layer3 = tf.nn.elu(layer3)\n",
    "    layer3 = tf.nn.dropout(layer3,keep_prob)\n",
    "\n",
    "    \n",
    "\n",
    "\n",
    "\n",
    "\n",
    "    weights4 = tf.Variable(tf.truncated_normal(([120,84]),0,0.1))\n",
    "    bias4 = tf.Variable(tf.zeros(84))\n",
    "    layer4 = tf.add(tf.matmul(layer3,weights4),bias4)\n",
    "    \n",
    "    layer4 = tf.nn.elu(layer4)\n",
    "    layer4 = tf.nn.dropout(layer4,keep_prob)\n",
    "\n",
    "    weights = tf.Variable(tf.truncated_normal(([84,43]),0,0.1))\n",
    "    bias = tf.Variable(tf.zeros(43))\n",
    "    logits = tf.add(tf.matmul(layer4,weights),bias)\n",
    "    return logits"
   ]
  },
  {
   "cell_type": "markdown",
   "metadata": {},
   "source": [
    "### Train, Validate and Test the Model"
   ]
  },
  {
   "cell_type": "markdown",
   "metadata": {},
   "source": [
    "A validation set can be used to assess how well the model is performing. A low accuracy on the training and validation\n",
    "sets imply underfitting. A high accuracy on the training set but low accuracy on the validation set implies overfitting."
   ]
  },
  {
   "cell_type": "code",
   "execution_count": 94,
   "metadata": {},
   "outputs": [],
   "source": [
    "import tensorflow as tf\n",
    "\n",
    "EPOCHS = 20\n",
    "BATCH_SIZE = 128"
   ]
  },
  {
   "cell_type": "code",
   "execution_count": 95,
   "metadata": {},
   "outputs": [],
   "source": [
    "x = tf.placeholder(tf.float32, (None, 32, 32,1))\n",
    "y = tf.placeholder(tf.int32, (None))\n",
    "one_hot_y = tf.one_hot(y, 43)"
   ]
  },
  {
   "cell_type": "code",
   "execution_count": 96,
   "metadata": {},
   "outputs": [],
   "source": [
    "rate = 0.001\n",
    "\n",
    "logits = LeNet(x)\n",
    "cross_entropy = tf.nn.softmax_cross_entropy_with_logits(labels=one_hot_y, logits=logits)\n",
    "loss_operation = tf.reduce_mean(cross_entropy)\n",
    "optimizer = tf.train.AdamOptimizer(learning_rate = rate)\n",
    "training_operation = optimizer.minimize(loss_operation)"
   ]
  },
  {
   "cell_type": "code",
   "execution_count": 97,
   "metadata": {},
   "outputs": [],
   "source": [
    "correct_prediction = tf.equal(tf.argmax(logits, 1), tf.argmax(one_hot_y, 1))\n",
    "accuracy_operation = tf.reduce_mean(tf.cast(correct_prediction, tf.float32))\n",
    "saver = tf.train.Saver()\n",
    "\n",
    "def evaluate(X_data, y_data):\n",
    "    num_examples = len(X_data)\n",
    "    total_accuracy = 0\n",
    "    sess = tf.get_default_session()\n",
    "    for offset in range(0, num_examples, BATCH_SIZE):\n",
    "        batch_x, batch_y = X_data[offset:offset+BATCH_SIZE], y_data[offset:offset+BATCH_SIZE]\n",
    "        accuracy = sess.run(accuracy_operation, feed_dict={x: batch_x, y: batch_y,keep_prob:1})\n",
    "        total_accuracy += (accuracy * len(batch_x))\n",
    "    return total_accuracy / num_examples"
   ]
  },
  {
   "cell_type": "code",
   "execution_count": 98,
   "metadata": {
    "scrolled": true
   },
   "outputs": [
    {
     "name": "stdout",
     "output_type": "stream",
     "text": [
      "Training...\n",
      "\n",
      "EPOCH 1 ...\n",
      "Validation Accuracy = 0.707\n",
      "Training Accuracy = 0.744\n",
      "\n",
      "EPOCH 2 ...\n",
      "Validation Accuracy = 0.854\n",
      "Training Accuracy = 0.885\n",
      "\n",
      "EPOCH 3 ...\n",
      "Validation Accuracy = 0.877\n",
      "Training Accuracy = 0.919\n",
      "\n",
      "EPOCH 4 ...\n",
      "Validation Accuracy = 0.905\n",
      "Training Accuracy = 0.940\n",
      "\n",
      "EPOCH 5 ...\n",
      "Validation Accuracy = 0.900\n",
      "Training Accuracy = 0.955\n",
      "\n",
      "EPOCH 6 ...\n",
      "Validation Accuracy = 0.913\n",
      "Training Accuracy = 0.961\n",
      "\n",
      "EPOCH 7 ...\n",
      "Validation Accuracy = 0.925\n",
      "Training Accuracy = 0.969\n",
      "\n",
      "EPOCH 8 ...\n",
      "Validation Accuracy = 0.934\n",
      "Training Accuracy = 0.973\n",
      "\n",
      "EPOCH 9 ...\n",
      "Validation Accuracy = 0.938\n",
      "Training Accuracy = 0.975\n",
      "\n",
      "EPOCH 10 ...\n",
      "Validation Accuracy = 0.940\n",
      "Training Accuracy = 0.979\n",
      "\n",
      "EPOCH 11 ...\n",
      "Validation Accuracy = 0.944\n",
      "Training Accuracy = 0.978\n",
      "\n",
      "EPOCH 12 ...\n",
      "Validation Accuracy = 0.943\n",
      "Training Accuracy = 0.978\n",
      "\n",
      "EPOCH 13 ...\n",
      "Validation Accuracy = 0.951\n",
      "Training Accuracy = 0.984\n",
      "\n",
      "EPOCH 14 ...\n",
      "Validation Accuracy = 0.946\n",
      "Training Accuracy = 0.985\n",
      "\n",
      "EPOCH 15 ...\n",
      "Validation Accuracy = 0.947\n",
      "Training Accuracy = 0.987\n",
      "\n",
      "EPOCH 16 ...\n",
      "Validation Accuracy = 0.951\n",
      "Training Accuracy = 0.989\n",
      "\n",
      "EPOCH 17 ...\n",
      "Validation Accuracy = 0.952\n",
      "Training Accuracy = 0.987\n",
      "\n",
      "EPOCH 18 ...\n",
      "Validation Accuracy = 0.954\n",
      "Training Accuracy = 0.990\n",
      "\n",
      "EPOCH 19 ...\n",
      "Validation Accuracy = 0.953\n",
      "Training Accuracy = 0.990\n",
      "\n",
      "EPOCH 20 ...\n",
      "Validation Accuracy = 0.952\n",
      "Training Accuracy = 0.992\n",
      "\n",
      "Model saved\n"
     ]
    }
   ],
   "source": [
    "with tf.Session() as sess:\n",
    "\n",
    "    \n",
    "    sess.run(tf.global_variables_initializer())\n",
    "   # saver.restore(sess, tf.train.latest_checkpoint('.'))\n",
    "    num_examples = len(X_train)\n",
    "\n",
    "    \n",
    "    print(\"Training...\")\n",
    "    print()\n",
    "   \n",
    "    for i in range(EPOCHS):\n",
    "        X_train1, y_train1 = shuffle(X_train, y_train)\n",
    "        for offset in range(0, num_examples, BATCH_SIZE):\n",
    "            end = offset + BATCH_SIZE\n",
    "            batch_x, batch_y = X_train1[offset:end], y_train1[offset:end]\n",
    "            sess.run(training_operation, feed_dict={x: batch_x, y: batch_y,keep_prob:0.4})\n",
    "        X_valid1 , y_valid1 = shuffle(X_valid, y_valid)    \n",
    "        validation_accuracy = evaluate(X_valid1, y_valid1)\n",
    "        training_accuracy = evaluate(X_train1, y_train1)\n",
    "        print(\"EPOCH {} ...\".format(i+1))\n",
    "        print(\"Validation Accuracy = {:.3f}\".format(validation_accuracy))\n",
    "        print(\"Training Accuracy = {:.3f}\".format(training_accuracy))\n",
    "        print()\n",
    "        \n",
    "    saver.save(sess, './Traffic_signal_classifier_project_session')\n",
    "    print(\"Model saved\")"
   ]
  },
  {
   "cell_type": "code",
   "execution_count": 99,
   "metadata": {},
   "outputs": [
    {
     "name": "stdout",
     "output_type": "stream",
     "text": [
      "INFO:tensorflow:Restoring parameters from ./Traffic_signal_classifier_project_session\n",
      "Test Accuracy = 0.932\n"
     ]
    }
   ],
   "source": [
    "\n",
    "with tf.Session() as sess:\n",
    "    saver.restore(sess, tf.train.latest_checkpoint('.'))\n",
    "\n",
    "    test_accuracy = evaluate(X_test, y_test)\n",
    "    print(\"Test Accuracy = {:.3f}\".format(test_accuracy))"
   ]
  },
  {
   "cell_type": "markdown",
   "metadata": {},
   "source": [
    "---\n",
    "\n",
    "## Step 3: Test a Model on New Images\n",
    "\n",
    "To give yourself more insight into how your model is working, download at least five pictures of German traffic signs from the web and use your model to predict the traffic sign type.\n",
    "\n",
    "You may find `signnames.csv` useful as it contains mappings from the class id (integer) to the actual sign name."
   ]
  },
  {
   "cell_type": "markdown",
   "metadata": {},
   "source": [
    "### Load and Output the Images"
   ]
  },
  {
   "cell_type": "code",
   "execution_count": 100,
   "metadata": {},
   "outputs": [
    {
     "name": "stdout",
     "output_type": "stream",
     "text": [
      "The images and labels are\n"
     ]
    },
    {
     "data": {
      "image/png": "[encoded data removed]",
      "text/plain": [
       "<Figure size 72x72 with 1 Axes>"
      ]
     },
     "metadata": {},
     "output_type": "display_data"
    },
    {
     "name": "stdout",
     "output_type": "stream",
     "text": [
      "The label of the image is :(4, b'Speed limit (70km/h)')\n"
     ]
    },
    {
     "data": {
      "image/png": "[encoded data removed]",
      "text/plain": [
       "<Figure size 72x72 with 1 Axes>"
      ]
     },
     "metadata": {},
     "output_type": "display_data"
    },
    {
     "name": "stdout",
     "output_type": "stream",
     "text": [
      "The label of the image is :(28, b'Children crossing')\n"
     ]
    },
    {
     "data": {
      "image/png": "[encoded data removed]",
      "text/plain": [
       "<Figure size 72x72 with 1 Axes>"
      ]
     },
     "metadata": {},
     "output_type": "display_data"
    },
    {
     "name": "stdout",
     "output_type": "stream",
     "text": [
      "The label of the image is :(25, b'Road work')\n"
     ]
    },
    {
     "data": {
      "image/png": "[encoded data removed]",
      "text/plain": [
       "<Figure size 72x72 with 1 Axes>"
      ]
     },
     "metadata": {},
     "output_type": "display_data"
    },
    {
     "name": "stdout",
     "output_type": "stream",
     "text": [
      "The label of the image is :(14, b'Stop')\n"
     ]
    },
    {
     "data": {
      "image/png": "[encoded data removed]",
      "text/plain": [
       "<Figure size 72x72 with 1 Axes>"
      ]
     },
     "metadata": {},
     "output_type": "display_data"
    },
    {
     "name": "stdout",
     "output_type": "stream",
     "text": [
      "The label of the image is :(2, b'Speed limit (50km/h)')\n"
     ]
    }
   ],
   "source": [
    "import matplotlib.pyplot as plt\n",
    "import matplotlib.image as im\n",
    "import cv2\n",
    "images = []\n",
    "labels1 =np.array([4,28,25,14,2])\n",
    "image1 = im.imread('/home/indhu/Videos/Submitted Projects/traffic signal classifier/00141.ppm')\n",
    "image2 =im.imread('/home/indhu/Videos/Submitted Projects/traffic signal classifier/00255.ppm')\n",
    "image3 = im.imread('/home/indhu/Videos/Submitted Projects/traffic signal classifier/00263.ppm')\n",
    "image4 = im.imread('/home/indhu/Videos/Submitted Projects/traffic signal classifier/03286.ppm')\n",
    "image5 = im.imread('/home/indhu/Videos/Submitted Projects/traffic signal classifier/08354.ppm')\n",
    "image1 = cv2.resize(image1,(32,32),interpolation = cv2.INTER_CUBIC)\n",
    "\n",
    "images.append(image1)\n",
    "image2 = cv2.resize(image2,(32,32),interpolation = cv2.INTER_CUBIC)\n",
    "\n",
    "images.append(image2)\n",
    "image3 = cv2.resize(image3,(32,32),interpolation = cv2.INTER_CUBIC)\n",
    "\n",
    "images.append(image3)\n",
    "image4 = cv2.resize(image4,(32,32),interpolation = cv2.INTER_CUBIC)\n",
    "\n",
    "images.append(image4)\n",
    "image5 = cv2.resize(image5,(32,32),interpolation = cv2.INTER_CUBIC)\n",
    "\n",
    "images.append(image5)\n",
    "images = np.array(images)\n",
    "\n",
    "\n",
    "print(\"The images and labels are\")\n",
    "\n",
    "%matplotlib inline\n",
    "plt.figure(figsize=(1,1))\n",
    "\n",
    "plt.imshow(image1)\n",
    "plt.show()\n",
    "print('The label of the image is :{}'.format(csv[labels1[0]]))\n",
    "plt.figure(figsize=(1,1))\n",
    "plt.imshow(image2)\n",
    "plt.show()\n",
    "print('The label of the image is :{}'.format(csv[labels1[1]]))\n",
    "\n",
    "plt.figure(figsize=(1,1))\n",
    "plt.imshow(image3)\n",
    "plt.show()\n",
    "print('The label of the image is :{}'.format(csv[labels1[2]]))\n",
    "plt.figure(figsize=(1,1))\n",
    "plt.imshow(image4)\n",
    "plt.show()\n",
    "print('The label of the image is :{}'.format(csv[labels1[3]]))\n",
    "plt.figure(figsize=(1,1))\n",
    "plt.imshow(image5)\n",
    "plt.show()\n",
    "print('The label of the image is :{}'.format(csv[labels1[4]]))\n",
    "image = []\n",
    "for i in images:\n",
    "    image1 = cv2.cvtColor(i,cv2.COLOR_RGB2GRAY)\n",
    "    image.append(image1)\n",
    "image = np.array(image)\n",
    "image = np.reshape(image,[5,32,32,1])\n"
   ]
  },
  {
   "cell_type": "markdown",
   "metadata": {},
   "source": [
    "# Predict the Sign Type for Each Image"
   ]
  },
  {
   "cell_type": "code",
   "execution_count": 103,
   "metadata": {},
   "outputs": [
    {
     "name": "stdout",
     "output_type": "stream",
     "text": [
      "INFO:tensorflow:Restoring parameters from ./Traffic_signal_classifier_project_session\n",
      "[ 4 28 25  8  2]\n"
     ]
    }
   ],
   "source": [
    "\n",
    "image = (np.subtract((np.divide(image,255)),0.5))\n",
    "softmax = tf.nn.softmax(logits)\n",
    "argmax =  tf.argmax(softmax,axis=1)\n",
    " \n",
    "with tf.Session() as sess:\n",
    "    saver.restore(sess,tf.train.latest_checkpoint('.'))\n",
    "    label = np.array(sess.run(argmax,feed_dict={x:image,keep_prob:1}))\n",
    "print(label)\n"
   ]
  },
  {
   "cell_type": "markdown",
   "metadata": {},
   "source": [
    "### Analyze Performance"
   ]
  },
  {
   "cell_type": "code",
   "execution_count": 104,
   "metadata": {},
   "outputs": [
    {
     "name": "stdout",
     "output_type": "stream",
     "text": [
      "The Prediction is\n",
      "(4, b'Speed limit (70km/h)')\n",
      "(28, b'Children crossing')\n",
      "(25, b'Road work')\n",
      "(8, b'Speed limit (120km/h')\n",
      "(2, b'Speed limit (50km/h)')\n",
      "The Accuracy of the model tested at random images from web is :80\n"
     ]
    }
   ],
   "source": [
    "print(\"The Prediction is\")\n",
    "for i in label:\n",
    "    print(csv[i])\n",
    "p = 0\n",
    "for i in range(0,len(labels1)):\n",
    "    if(label[i]==labels1[i]):\n",
    "        p = p+1\n",
    "p =(p*20)\n",
    "print('The Accuracy of the model tested at random images from web is :{}'.format(p))\n",
    "        "
   ]
  },
  {
   "cell_type": "markdown",
   "metadata": {},
   "source": [
    "### Output Top 5 Softmax Probabilities For Each Image Found on the Web"
   ]
  },
  {
   "cell_type": "markdown",
   "metadata": {},
   "source": [
    "For each of the new images, print out the model's softmax probabilities to show the **certainty** of the model's predictions (limit the output to the top 5 probabilities for each image). [`tf.nn.top_k`](https://www.tensorflow.org/versions/r0.12/api_docs/python/nn.html#top_k) could prove helpful here. \n",
    "\n",
    "The example below demonstrates how tf.nn.top_k can be used to find the top k predictions for each image.\n",
    "\n",
    "`tf.nn.top_k` will return the values and indices (class ids) of the top k predictions. So if k=3, for each sign, it'll return the 3 largest probabilities (out of a possible 43) and the correspoding class ids.\n",
    "\n",
    "Take this numpy array as an example. The values in the array represent predictions. The array contains softmax probabilities for five candidate images with six possible classes. `tf.nn.top_k` is used to choose the three classes with the highest probability:\n",
    "\n",
    "```\n",
    "# (5, 6) array\n",
    "a = np.array([[ 0.24879643,  0.07032244,  0.12641572,  0.34763842,  0.07893497,\n",
    "         0.12789202],\n",
    "       [ 0.28086119,  0.27569815,  0.08594638,  0.0178669 ,  0.18063401,\n",
    "         0.15899337],\n",
    "       [ 0.26076848,  0.23664738,  0.08020603,  0.07001922,  0.1134371 ,\n",
    "         0.23892179],\n",
    "       [ 0.11943333,  0.29198961,  0.02605103,  0.26234032,  0.1351348 ,\n",
    "         0.16505091],\n",
    "       [ 0.09561176,  0.34396535,  0.0643941 ,  0.16240774,  0.24206137,\n",
    "         0.09155967]])\n",
    "```\n",
    "\n",
    "Running it through `sess.run(tf.nn.top_k(tf.constant(a), k=3))` produces:\n",
    "\n",
    "```\n",
    "TopKV2(values=array([[ 0.34763842,  0.24879643,  0.12789202],\n",
    "       [ 0.28086119,  0.27569815,  0.18063401],\n",
    "       [ 0.26076848,  0.23892179,  0.23664738],\n",
    "       [ 0.29198961,  0.26234032,  0.16505091],\n",
    "       [ 0.34396535,  0.24206137,  0.16240774]]), indices=array([[3, 0, 5],\n",
    "       [0, 1, 4],\n",
    "       [0, 5, 1],\n",
    "       [1, 3, 5],\n",
    "       [1, 4, 3]], dtype=int32))\n",
    "```\n",
    "\n",
    "Looking just at the first row we get `[ 0.34763842,  0.24879643,  0.12789202]`, you can confirm these are the 3 largest probabilities in `a`. You'll also notice `[3, 0, 5]` are the corresponding indices."
   ]
  },
  {
   "cell_type": "code",
   "execution_count": 105,
   "metadata": {},
   "outputs": [
    {
     "name": "stdout",
     "output_type": "stream",
     "text": [
      "INFO:tensorflow:Restoring parameters from ./Traffic_signal_classifier_project_session\n",
      "TopKV2(values=array([[5.38931966e-01, 4.47287410e-01, 5.37244137e-03, 4.71899612e-03,\n",
      "        3.39358579e-03],\n",
      "       [9.99998927e-01, 8.01483509e-07, 1.39432970e-07, 6.99738294e-08,\n",
      "        1.98711572e-08],\n",
      "       [9.99996781e-01, 2.03430636e-06, 9.17535544e-07, 1.09040862e-07,\n",
      "        1.08320734e-07],\n",
      "       [9.61850643e-01, 8.75529833e-03, 6.70553930e-03, 4.37549129e-03,\n",
      "        3.87531891e-03],\n",
      "       [6.44349992e-01, 3.55548084e-01, 8.40013308e-05, 1.53507845e-05,\n",
      "        1.15700163e-06]], dtype=float32), indices=array([[ 4,  8,  0,  7,  1],\n",
      "       [28, 29, 20, 32, 36],\n",
      "       [25, 19, 23, 22, 20],\n",
      "       [ 8,  3, 17, 15, 14],\n",
      "       [ 2,  1,  7,  5, 40]], dtype=int32))\n"
     ]
    }
   ],
   "source": [
    "\n",
    "prediction = tf.nn.top_k(softmax,k=5)\n",
    "with tf.Session() as sess:\n",
    "    saver.restore(sess,tf.train.latest_checkpoint('.'))\n",
    "    prediction = sess.run(prediction,feed_dict={x:image,keep_prob:1})\n",
    "    \n",
    "\n",
    "print(prediction)"
   ]
  },
  {
   "cell_type": "markdown",
   "metadata": {},
   "source": [
    "### Project Writeup\n",
    "\n",
    "Once you have completed the code implementation, document your results in a project writeup using this [template](https://github.com/udacity/CarND-Traffic-Sign-Classifier-Project/blob/master/writeup_template.md) as a guide. The writeup can be in a markdown or pdf file. "
   ]
  },
  {
   "cell_type": "markdown",
   "metadata": {},
   "source": [
    "> **Note**: Once you have completed all of the code implementations and successfully answered each question above, you may finalize your work by exporting the iPython Notebook as an HTML document. You can do this by using the menu above and navigating to  \\n\",\n",
    "    \"**File -> Download as -> HTML (.html)**. Include the finished document along with this notebook as your submission."
   ]
  },
  {
   "cell_type": "markdown",
   "metadata": {},
   "source": [
    "---\n",
    "\n",
    "## Step 4 (Optional): Visualize the Neural Network's State with Test Images\n",
    "\n",
    " This Section is not required to complete but acts as an additional excersise for understaning the output of a neural network's weights. While neural networks can be a great learning device they are often referred to as a black box. We can understand what the weights of a neural network look like better by plotting their feature maps. After successfully training your neural network you can see what it's feature maps look like by plotting the output of the network's weight layers in response to a test stimuli image. From these plotted feature maps, it's possible to see what characteristics of an image the network finds interesting. For a sign, maybe the inner network feature maps react with high activation to the sign's boundary outline or to the contrast in the sign's painted symbol.\n",
    "\n",
    " Provided for you below is the function code that allows you to get the visualization output of any tensorflow weight layer you want. The inputs to the function should be a stimuli image, one used during training or a new one you provided, and then the tensorflow variable name that represents the layer's state during the training process, for instance if you wanted to see what the [LeNet lab's](https://classroom.udacity.com/nanodegrees/nd013/parts/fbf77062-5703-404e-b60c-95b78b2f3f9e/modules/6df7ae49-c61c-4bb2-a23e-6527e69209ec/lessons/601ae704-1035-4287-8b11-e2c2716217ad/concepts/d4aca031-508f-4e0b-b493-e7b706120f81) feature maps looked like for it's second convolutional layer you could enter conv2 as the tf_activation variable.\n",
    "\n",
    "For an example of what feature map outputs look like, check out NVIDIA's results in their paper [End-to-End Deep Learning for Self-Driving Cars](https://devblogs.nvidia.com/parallelforall/deep-learning-self-driving-cars/) in the section Visualization of internal CNN State. NVIDIA was able to show that their network's inner weights had high activations to road boundary lines by comparing feature maps from an image with a clear path to one without. Try experimenting with a similar test to show that your trained network's weights are looking for interesting features, whether it's looking at differences in feature maps from images with or without a sign, or even what feature maps look like in a trained network vs a completely untrained one on the same sign image.\n",
    "\n",
    "<figure>\n",
    " <img src=\"visualize_cnn.png\" width=\"380\" alt=\"Combined Image\" />\n",
    " <figcaption>\n",
    " <p></p> \n",
    " <p style=\"text-align: center;\"> Your output should look something like this (above)</p> \n",
    " </figcaption>\n",
    "</figure>\n",
    " <p></p> \n"
   ]
  },
  {
   "cell_type": "code",
   "execution_count": null,
   "metadata": {
    "collapsed": true
   },
   "outputs": [],
   "source": [
    "### Visualize your network's feature maps here.\n",
    "### Feel free to use as many code cells as needed.\n",
    "\n",
    "# image_input: the test image being fed into the network to produce the feature maps\n",
    "# tf_activation: should be a tf variable name used during your training procedure that represents the calculated state of a specific weight layer\n",
    "# activation_min/max: can be used to view the activation contrast in more detail, by default matplot sets min and max to the actual min and max values of the output\n",
    "# plt_num: used to plot out multiple different weight feature map sets on the same block, just extend the plt number for each new feature map entry\n",
    "\n",
    "def outputFeatureMap(image_input, tf_activation, activation_min=-1, activation_max=-1 ,plt_num=1):\n",
    "    # Here make sure to preprocess your image_input in a way your network expects\n",
    "    # with size, normalization, ect if needed\n",
    "    # image_input =\n",
    "    # Note: x should be the same name as your network's tensorflow data placeholder variable\n",
    "    # If you get an error tf_activation is not defined it may be having trouble accessing the variable from inside a function\n",
    "    activation = tf_activation.eval(session=sess,feed_dict={x : image_input})\n",
    "    featuremaps = activation.shape[3]\n",
    "    plt.figure(plt_num, figsize=(15,15))\n",
    "    for featuremap in range(featuremaps):\n",
    "        plt.subplot(6,8, featuremap+1) # sets the number of feature maps to show on each row and column\n",
    "        plt.title('FeatureMap ' + str(featuremap)) # displays the feature map number\n",
    "        if activation_min != -1 & activation_max != -1:\n",
    "            plt.imshow(activation[0,:,:, featuremap], interpolation=\"nearest\", vmin =activation_min, vmax=activation_max, cmap=\"gray\")\n",
    "        elif activation_max != -1:\n",
    "            plt.imshow(activation[0,:,:, featuremap], interpolation=\"nearest\", vmax=activation_max, cmap=\"gray\")\n",
    "        elif activation_min !=-1:\n",
    "            plt.imshow(activation[0,:,:, featuremap], interpolation=\"nearest\", vmin=activation_min, cmap=\"gray\")\n",
    "        else:\n",
    "            plt.imshow(activation[0,:,:, featuremap], interpolation=\"nearest\", cmap=\"gray\")"
   ]
  }
 ],
 "metadata": {
  "anaconda-cloud": {},
  "kernelspec": {
   "display_name": "Python 3",
   "language": "python",
   "name": "python3"
  },
  "language_info": {
   "codemirror_mode": {
    "name": "ipython",
    "version": 3
   },
   "file_extension": ".py",
   "mimetype": "text/x-python",
   "name": "python",
   "nbconvert_exporter": "python",
   "pygments_lexer": "ipython3",
   "version": "3.5.5"
  }
 },
 "nbformat": 4,
 "nbformat_minor": 1
}
